{
  "nbformat": 4,
  "nbformat_minor": 0,
  "metadata": {
    "colab": {
      "provenance": [],
      "authorship_tag": "ABX9TyM5kISY0NmuQnVrvLEUuICP",
      "include_colab_link": true
    },
    "kernelspec": {
      "name": "python3",
      "display_name": "Python 3"
    },
    "language_info": {
      "name": "python"
    }
  },
  "cells": [
    {
      "cell_type": "markdown",
      "metadata": {
        "id": "view-in-github",
        "colab_type": "text"
      },
      "source": [
        "<a href=\"https://colab.research.google.com/github/divyansh-ag-03/NLP-CSL448/blob/main/NLP_CosSim_8.ipynb\" target=\"_parent\"><img src=\"https://colab.research.google.com/assets/colab-badge.svg\" alt=\"Open In Colab\"/></a>"
      ]
    },
    {
      "cell_type": "code",
      "source": [
        "import spacy\n",
        "from sklearn.feature_extraction.text import TfidfVectorizer\n",
        "from sklearn.metrics.pairwise import cosine_similarity"
      ],
      "metadata": {
        "id": "nBoRNhDnK40C"
      },
      "execution_count": 3,
      "outputs": []
    },
    {
      "cell_type": "code",
      "execution_count": 4,
      "metadata": {
        "id": "qWpO8uLkKnc8"
      },
      "outputs": [],
      "source": [
        "nlp = spacy.load(\"en_core_web_sm\")"
      ]
    },
    {
      "cell_type": "code",
      "source": [
        "def get_cosine_similarity(sentence1, sentence2):\n",
        "  tokens1 = nlp(sentence1)\n",
        "  tokens2 = nlp(sentence2)\n",
        "  tokens1_str = ' '.join([token.text for token in tokens1])\n",
        "  tokens2_str = ' '.join([token.text for token in tokens2])\n",
        "  vectorizer = TfidfVectorizer()\n",
        "  tfidf_matrix = vectorizer.fit_transform([tokens1_str, tokens2_str])\n",
        "  similarity_score = cosine_similarity(tfidf_matrix[0], tfidf_matrix[1])[0][0]\n",
        "  return similarity_score"
      ],
      "metadata": {
        "id": "ZUa4dbd1LS5P"
      },
      "execution_count": 5,
      "outputs": []
    },
    {
      "cell_type": "code",
      "source": [
        "def main():\n",
        "  sentence1 = input(\"Enter the first sentence: \")\n",
        "  sentence2 = input(\"Enter the second sentence: \")\n",
        "  cosine_similarity_score = get_cosine_similarity(sentence1, sentence2)\n",
        "  print(f\"\\nCosine Similarity: {cosine_similarity_score}\")"
      ],
      "metadata": {
        "id": "Wk6wIFNcM4s8"
      },
      "execution_count": 6,
      "outputs": []
    },
    {
      "cell_type": "code",
      "source": [
        "if __name__ == \"__main__\":\n",
        "  main()"
      ],
      "metadata": {
        "colab": {
          "base_uri": "https://localhost:8080/"
        },
        "id": "C2fzdrVwNVHf",
        "outputId": "35747d41-ea9e-4a9d-ed7d-aa21ac15aee1"
      },
      "execution_count": 7,
      "outputs": [
        {
          "output_type": "stream",
          "name": "stdout",
          "text": [
            "Enter the first sentence: India is developing at a rapid pace.\n",
            "Enter the second sentence: China is a developed country.\n",
            "\n",
            "Cosine Similarity: 0.11521554337793122\n"
          ]
        }
      ]
    },
    {
      "cell_type": "code",
      "source": [],
      "metadata": {
        "id": "mv-NUwjbNcG1"
      },
      "execution_count": null,
      "outputs": []
    }
  ]
}